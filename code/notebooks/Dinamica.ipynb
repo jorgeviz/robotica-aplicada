{
 "cells": [
  {
   "cell_type": "markdown",
   "metadata": {},
   "source": [
    "# Dinámica de manipulador de 2Gdl\n"
   ]
  },
  {
   "cell_type": "code",
   "execution_count": 1,
   "metadata": {
    "collapsed": true
   },
   "outputs": [],
   "source": [
    "from sympy import *\n",
    "init_printing(use_unicode=True)"
   ]
  },
  {
   "cell_type": "code",
   "execution_count": 2,
   "metadata": {
    "collapsed": true
   },
   "outputs": [],
   "source": [
    "q1, q2, q1_d, q2_d = symbols('q1 q2 q1_d q2_d')\n",
    "m1, m2, I1, I2 = symbols('m1 m2 I1 I2', integer=True)\n",
    "l_1, l_1c, l_2,l_2c = symbols('1_1 l_1c l_2 l_2c', integer=True)"
   ]
  },
  {
   "cell_type": "code",
   "execution_count": 3,
   "metadata": {},
   "outputs": [
    {
     "name": "stdout",
     "output_type": "stream",
     "text": [
      "A01\n"
     ]
    },
    {
     "data": {
      "text/latex": [
       "$$\\left[\\begin{matrix}\\cos{\\left (q_{1} \\right )} & - \\sin{\\left (q_{1} \\right )} & 0 & 1_{1} \\cos{\\left (q_{1} \\right )}\\\\\\sin{\\left (q_{1} \\right )} & \\cos{\\left (q_{1} \\right )} & 0 & 1_{1} \\sin{\\left (q_{1} \\right )}\\\\0 & 0 & 1 & 0\\\\0 & 0 & 0 & 1\\end{matrix}\\right]$$"
      ],
      "text/plain": [
       "⎡cos(q₁)  -sin(q₁)  0  1₁⋅cos(q₁)⎤\n",
       "⎢                                ⎥\n",
       "⎢sin(q₁)  cos(q₁)   0  1₁⋅sin(q₁)⎥\n",
       "⎢                                ⎥\n",
       "⎢   0        0      1      0     ⎥\n",
       "⎢                                ⎥\n",
       "⎣   0        0      0      1     ⎦"
      ]
     },
     "execution_count": 3,
     "metadata": {},
     "output_type": "execute_result"
    }
   ],
   "source": [
    "# Matrice\n",
    "A01 = Matrix([[cos(q1), -sin(q1), 0, l_1*cos(q1)],\n",
    "            [sin(q1),cos(q1),0,l_1*sin(q1)],\n",
    "            [0,0,1,0],\n",
    "            [0,0,0,1]])\n",
    "print('A01')\n",
    "A01"
   ]
  },
  {
   "cell_type": "code",
   "execution_count": 4,
   "metadata": {},
   "outputs": [
    {
     "name": "stdout",
     "output_type": "stream",
     "text": [
      "A12\n"
     ]
    },
    {
     "data": {
      "text/latex": [
       "$$\\left[\\begin{matrix}\\cos{\\left (q_{2} \\right )} & - \\sin{\\left (q_{2} \\right )} & 0 & l_{2} \\cos{\\left (q_{2} \\right )}\\\\\\sin{\\left (q_{2} \\right )} & \\cos{\\left (q_{2} \\right )} & 0 & l_{2} \\sin{\\left (q_{2} \\right )}\\\\0 & 0 & 1 & 0\\\\0 & 0 & 0 & 1\\end{matrix}\\right]$$"
      ],
      "text/plain": [
       "⎡cos(q₂)  -sin(q₂)  0  l₂⋅cos(q₂)⎤\n",
       "⎢                                ⎥\n",
       "⎢sin(q₂)  cos(q₂)   0  l₂⋅sin(q₂)⎥\n",
       "⎢                                ⎥\n",
       "⎢   0        0      1      0     ⎥\n",
       "⎢                                ⎥\n",
       "⎣   0        0      0      1     ⎦"
      ]
     },
     "execution_count": 4,
     "metadata": {},
     "output_type": "execute_result"
    }
   ],
   "source": [
    "# Matrice\n",
    "A12 = Matrix([[cos(q2), -sin(q2), 0, l_2*cos(q2)],\n",
    "            [sin(q2),cos(q2),0,l_2*sin(q2)],\n",
    "            [0,0,1,0],\n",
    "            [0,0,0,1]])\n",
    "print('A12')\n",
    "A12"
   ]
  },
  {
   "cell_type": "code",
   "execution_count": 5,
   "metadata": {},
   "outputs": [
    {
     "name": "stdout",
     "output_type": "stream",
     "text": [
      "A01c\n"
     ]
    },
    {
     "data": {
      "text/latex": [
       "$$\\left[\\begin{matrix}\\cos{\\left (q_{1} \\right )} & - \\sin{\\left (q_{1} \\right )} & 0 & l_{1c} \\cos{\\left (q_{1} \\right )}\\\\\\sin{\\left (q_{1} \\right )} & \\cos{\\left (q_{1} \\right )} & 0 & l_{1c} \\sin{\\left (q_{1} \\right )}\\\\0 & 0 & 1 & 0\\\\0 & 0 & 0 & 1\\end{matrix}\\right]$$"
      ],
      "text/plain": [
       "⎡cos(q₁)  -sin(q₁)  0  l_1c⋅cos(q₁)⎤\n",
       "⎢                                  ⎥\n",
       "⎢sin(q₁)  cos(q₁)   0  l_1c⋅sin(q₁)⎥\n",
       "⎢                                  ⎥\n",
       "⎢   0        0      1       0      ⎥\n",
       "⎢                                  ⎥\n",
       "⎣   0        0      0       1      ⎦"
      ]
     },
     "execution_count": 5,
     "metadata": {},
     "output_type": "execute_result"
    }
   ],
   "source": [
    "# Matrice\n",
    "A01c = Matrix([[cos(q1), -sin(q1), 0, l_1c*cos(q1)],\n",
    "            [sin(q1),cos(q1),0,l_1c*sin(q1)],\n",
    "            [0,0,1,0],\n",
    "            [0,0,0,1]])\n",
    "print('A01c')\n",
    "A01c"
   ]
  },
  {
   "cell_type": "code",
   "execution_count": 6,
   "metadata": {},
   "outputs": [
    {
     "name": "stdout",
     "output_type": "stream",
     "text": [
      "R01c\n"
     ]
    },
    {
     "data": {
      "text/latex": [
       "$$\\left[\\begin{matrix}\\cos{\\left (q_{1} \\right )} & - \\sin{\\left (q_{1} \\right )} & 0\\\\\\sin{\\left (q_{1} \\right )} & \\cos{\\left (q_{1} \\right )} & 0\\\\0 & 0 & 1\\end{matrix}\\right]$$"
      ],
      "text/plain": [
       "⎡cos(q₁)  -sin(q₁)  0⎤\n",
       "⎢                    ⎥\n",
       "⎢sin(q₁)  cos(q₁)   0⎥\n",
       "⎢                    ⎥\n",
       "⎣   0        0      1⎦"
      ]
     },
     "execution_count": 6,
     "metadata": {},
     "output_type": "execute_result"
    }
   ],
   "source": [
    "R00 = eye(3)\n",
    "R01c = Matrix([A01c[0,:3],A01c[1,:3],A01c[2,:3]])\n",
    "print('R01c')\n",
    "R01c"
   ]
  },
  {
   "cell_type": "code",
   "execution_count": 7,
   "metadata": {},
   "outputs": [
    {
     "name": "stdout",
     "output_type": "stream",
     "text": [
      "o01c\n"
     ]
    },
    {
     "data": {
      "text/latex": [
       "$$\\left[\\begin{matrix}l_{1c} \\cos{\\left (q_{1} \\right )}\\\\l_{1c} \\sin{\\left (q_{1} \\right )}\\\\0\\end{matrix}\\right]$$"
      ],
      "text/plain": [
       "⎡l_1c⋅cos(q₁)⎤\n",
       "⎢            ⎥\n",
       "⎢l_1c⋅sin(q₁)⎥\n",
       "⎢            ⎥\n",
       "⎣     0      ⎦"
      ]
     },
     "execution_count": 7,
     "metadata": {},
     "output_type": "execute_result"
    }
   ],
   "source": [
    "o01c =  Matrix([A01c[:3,3]])\n",
    "print('o01c')\n",
    "o01c"
   ]
  },
  {
   "cell_type": "code",
   "execution_count": 8,
   "metadata": {},
   "outputs": [
    {
     "name": "stdout",
     "output_type": "stream",
     "text": [
      "J_vc1\n"
     ]
    },
    {
     "data": {
      "text/latex": [
       "$$\\left[\\begin{matrix}l_{1c} \\cos{\\left (q_{1} \\right )} & 0\\\\l_{1c} \\sin{\\left (q_{1} \\right )} & 0\\\\0 & 0\\end{matrix}\\right]$$"
      ],
      "text/plain": [
       "⎡l_1c⋅cos(q₁)  0⎤\n",
       "⎢               ⎥\n",
       "⎢l_1c⋅sin(q₁)  0⎥\n",
       "⎢               ⎥\n",
       "⎣     0        0⎦"
      ]
     },
     "execution_count": 8,
     "metadata": {},
     "output_type": "execute_result"
    }
   ],
   "source": [
    "J_vc1 = R00*o01c\n",
    "J_vc1= simplify(J_vc1)\n",
    "J_vc1 = Matrix([J_vc1])\n",
    "J_vc1 = Matrix([[J_vc1[0],0],\n",
    "               [J_vc1[1],0],\n",
    "               [J_vc1[2],0]])\n",
    "print('J_vc1')\n",
    "J_vc1 ## Jacobiano Vc1"
   ]
  },
  {
   "cell_type": "code",
   "execution_count": 13,
   "metadata": {},
   "outputs": [
    {
     "name": "stdout",
     "output_type": "stream",
     "text": [
      "R02c\n"
     ]
    },
    {
     "data": {
      "text/latex": [
       "$$\\left[\\begin{matrix}- \\sin{\\left (q_{1} \\right )} \\sin{\\left (q_{2} \\right )} + \\cos{\\left (q_{1} \\right )} \\cos{\\left (q_{2} \\right )} & - \\sin{\\left (q_{1} \\right )} \\cos{\\left (q_{2} \\right )} - \\sin{\\left (q_{2} \\right )} \\cos{\\left (q_{1} \\right )} & 0\\\\\\sin{\\left (q_{1} \\right )} \\cos{\\left (q_{2} \\right )} + \\sin{\\left (q_{2} \\right )} \\cos{\\left (q_{1} \\right )} & - \\sin{\\left (q_{1} \\right )} \\sin{\\left (q_{2} \\right )} + \\cos{\\left (q_{1} \\right )} \\cos{\\left (q_{2} \\right )} & 0\\\\0 & 0 & 1\\end{matrix}\\right]$$"
      ],
      "text/plain": [
       "⎡-sin(q₁)⋅sin(q₂) + cos(q₁)⋅cos(q₂)  -sin(q₁)⋅cos(q₂) - sin(q₂)⋅cos(q₁)  0⎤\n",
       "⎢                                                                         ⎥\n",
       "⎢sin(q₁)⋅cos(q₂) + sin(q₂)⋅cos(q₁)   -sin(q₁)⋅sin(q₂) + cos(q₁)⋅cos(q₂)  0⎥\n",
       "⎢                                                                         ⎥\n",
       "⎣                0                                   0                   1⎦"
      ]
     },
     "execution_count": 13,
     "metadata": {},
     "output_type": "execute_result"
    }
   ],
   "source": [
    "# Matrice\n",
    "A12c = Matrix([[cos(q2), -sin(q2), 0, l_2c*cos(q2)],\n",
    "            [sin(q2),cos(q2),0,l_2c*sin(q2)],\n",
    "            [0,0,1,0],\n",
    "            [0,0,0,1]])\n",
    "R12c = Matrix([A12c[0,:3],A12c[1,:3],A12c[2,:3]])\n",
    "A02c = A01*A12c\n",
    "R02c = Matrix([A02c[0,:3],A02c[1,:3],A02c[2,:3]])\n",
    "o02c =  Matrix([A02c[:3,3]])\n",
    "print('R02c')\n",
    "R02c"
   ]
  },
  {
   "cell_type": "code",
   "execution_count": 14,
   "metadata": {},
   "outputs": [],
   "source": [
    "# Parte Izquierda de J_vc2\n",
    "J_vc2_1 = R00*o02c\n",
    "J_vc2_1 = simplify(J_vc2_1)\n",
    "o01 =  Matrix([A01[:3,3]])\n",
    "# Parte Derecha de J_vc2\n",
    "R01=R01c\n",
    "J_vc2_2 = R01*(o02c-o01)\n",
    "J_vc2_2 = simplify(J_vc2_2)"
   ]
  },
  {
   "cell_type": "code",
   "execution_count": 15,
   "metadata": {},
   "outputs": [
    {
     "data": {
      "text/latex": [
       "$$\\left[\\begin{matrix}1_{1} \\cos{\\left (q_{1} \\right )} + l_{2c} \\cos{\\left (q_{1} + q_{2} \\right )} & l_{2c} \\cos{\\left (2 q_{1} + q_{2} \\right )}\\\\1_{1} \\sin{\\left (q_{1} \\right )} + l_{2c} \\sin{\\left (q_{1} + q_{2} \\right )} & l_{2c} \\sin{\\left (2 q_{1} + q_{2} \\right )}\\\\0 & 0\\end{matrix}\\right]$$"
      ],
      "text/plain": [
       "⎡1₁⋅cos(q₁) + l_2c⋅cos(q₁ + q₂)  l_2c⋅cos(2⋅q₁ + q₂)⎤\n",
       "⎢                                                   ⎥\n",
       "⎢1₁⋅sin(q₁) + l_2c⋅sin(q₁ + q₂)  l_2c⋅sin(2⋅q₁ + q₂)⎥\n",
       "⎢                                                   ⎥\n",
       "⎣              0                          0         ⎦"
      ]
     },
     "execution_count": 15,
     "metadata": {},
     "output_type": "execute_result"
    }
   ],
   "source": [
    "J_vc2 = Matrix([[J_vc2_1[0],J_vc2_2[0]],\n",
    "               [J_vc2_1[1],J_vc2_2[1]],\n",
    "               [J_vc2_1[2],J_vc2_2[2]]])\n",
    "simplify(J_vc2) ## Jacobiano Vc2"
   ]
  },
  {
   "cell_type": "code",
   "execution_count": null,
   "metadata": {
    "collapsed": true
   },
   "outputs": [],
   "source": []
  }
 ],
 "metadata": {
  "kernelspec": {
   "display_name": "Python 3",
   "language": "python",
   "name": "python3"
  },
  "language_info": {
   "codemirror_mode": {
    "name": "ipython",
    "version": 3
   },
   "file_extension": ".py",
   "mimetype": "text/x-python",
   "name": "python",
   "nbconvert_exporter": "python",
   "pygments_lexer": "ipython3",
   "version": "3.5.2"
  }
 },
 "nbformat": 4,
 "nbformat_minor": 2
}
